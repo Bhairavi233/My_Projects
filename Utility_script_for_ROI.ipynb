{
 "cells": [
  {
   "cell_type": "markdown",
   "id": "deb02ca6-cff3-48f4-87a8-a12a48184f65",
   "metadata": {},
   "source": [
    "get ROI of an image\n"
   ]
  },
  {
   "cell_type": "code",
   "execution_count": null,
   "id": "1d9f9f4a-7791-4180-9e12-6d55ce8e4030",
   "metadata": {},
   "outputs": [],
   "source": []
  },
  {
   "cell_type": "markdown",
   "id": "9f7edece-ed0c-4076-be33-18af4e2735fa",
   "metadata": {},
   "source": [
    "get ROI of an image"
   ]
  },
  {
   "cell_type": "code",
   "execution_count": 11,
   "id": "b2d2997d-a994-4e9c-86ae-37b0e183562f",
   "metadata": {},
   "outputs": [
    {
     "name": "stdout",
     "output_type": "stream",
     "text": [
      "Polygon points: [(171, 471), (187, 2), (703, 2), (703, 286), (1066, 379)]\n"
     ]
    }
   ],
   "source": [
    "import cv2\n",
    "import numpy as np\n",
    "\n",
    "# Load the image\n",
    "scale = 0.6  # You can adjust this\n",
    "image_path = \"C:/Users/Hp/Pictures/Screenshots/Screenshot 2025-05-03 182628.jpg\"\n",
    "image = cv2.imread(image_path)\n",
    "image = cv2.resize(image.copy(), None, fx=scale, fy=scale)\n",
    "clone = image.copy()\n",
    "points = []\n",
    "\n",
    "def draw_polygon(event, x, y, flags, param):\n",
    "    global points, image\n",
    "\n",
    "    if event == cv2.EVENT_LBUTTONDOWN:\n",
    "        points.append((x, y))\n",
    "        cv2.circle(image, (x, y), 5, (0, 0, 255), -1)\n",
    "\n",
    "    elif event == cv2.EVENT_RBUTTONDOWN and len(points) >= 3:\n",
    "        # Draw polygon\n",
    "        pts = np.array(points, np.int32)\n",
    "        pts = pts.reshape((-1, 1, 2))\n",
    "        cv2.polylines(image, [pts], isClosed=True, color=(255, 0, 0), thickness=2)\n",
    "\n",
    "cv2.namedWindow(\"Select ROI (Left Click: point, Right Click: finish)\")\n",
    "cv2.setMouseCallback(\"Select ROI (Left Click: point, Right Click: finish)\", draw_polygon)\n",
    "\n",
    "while True:\n",
    "    cv2.imshow(\"Select ROI (Left Click: point, Right Click: finish)\", image)\n",
    "    key = cv2.waitKey(1) & 0xFF\n",
    "\n",
    "    if key == ord(\"r\"):  # reset\n",
    "        image = clone.copy()\n",
    "        points = []\n",
    "\n",
    "    elif key == ord(\"q\") or key == 27:  # quit on 'q' or ESC\n",
    "        break\n",
    "\n",
    "cv2.destroyAllWindows()\n",
    "\n",
    "# Optional: save coordinates\n",
    "print(\"Polygon points:\", points)\n"
   ]
  },
  {
   "cell_type": "code",
   "execution_count": null,
   "id": "8783f8c4-2feb-4256-9525-6519ee3d1c18",
   "metadata": {},
   "outputs": [],
   "source": []
  }
 ],
 "metadata": {
  "kernelspec": {
   "display_name": "Python 3 (ipykernel)",
   "language": "python",
   "name": "python3"
  },
  "language_info": {
   "codemirror_mode": {
    "name": "ipython",
    "version": 3
   },
   "file_extension": ".py",
   "mimetype": "text/x-python",
   "name": "python",
   "nbconvert_exporter": "python",
   "pygments_lexer": "ipython3",
   "version": "3.11.9"
  }
 },
 "nbformat": 4,
 "nbformat_minor": 5
}
